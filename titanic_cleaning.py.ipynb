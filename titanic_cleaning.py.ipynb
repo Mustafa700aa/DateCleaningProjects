{
 "cells": [
  {
   "cell_type": "code",
   "execution_count": 167,
   "id": "783faf70-64f3-4449-b4e4-b7821dae5af1",
   "metadata": {},
   "outputs": [],
   "source": [
    "import pandas as pd"
   ]
  },
  {
   "cell_type": "code",
   "execution_count": 168,
   "id": "3198d832-6466-4376-9f04-dc41bc091219",
   "metadata": {},
   "outputs": [],
   "source": [
    "#\n",
    "train_df = pd.read_csv('titanic/train.csv')               \n",
    "test_df = pd.read_csv('titanic/test.csv')            \n",
    "submission_df = pd.read_csv('gender_submission.csv')  \n",
    "\n",
    "train_df['PassengerId'] = train_df['PassengerId'].astype(str)\n",
    "test_df['PassengerId'] = test_df['PassengerId'].astype(str)\n",
    "submission_df['PassengerId'] = submission_df['PassengerId'].astype(str)\n",
    "\n",
    "test_merged = pd.merge(test_df, submission_df, on='PassengerId', how='left')\n",
    "combined_df = pd.concat([train_df, test_merged], ignore_index=True)\n"
   ]
  },
  {
   "cell_type": "code",
   "execution_count": 169,
   "id": "01691839-cbc0-4ace-8e69-03f63cf4c6a9",
   "metadata": {},
   "outputs": [],
   "source": [
    "#\n",
    "combined_df.drop(columns=['Cabin', 'Ticket', 'Name'], inplace=True, errors='ignore')\n",
    "combined_df['PassengerId'] = combined_df['PassengerId'].astype(int)\n",
    "combined_df.set_index('PassengerId', inplace=True)\n",
    "combined_df['Age'] = combined_df['Age'].fillna(combined_df['Age'].median())\n",
    "combined_df['Age'] = combined_df['Age'].astype(int)\n",
    "combined_df['Fare'] = combined_df['Fare'].fillna(combined_df['Fare'].median())\n",
    "combined_df['Fare'] = combined_df['Fare'].astype(int)"
   ]
  },
  {
   "cell_type": "code",
   "execution_count": 170,
   "id": "b4b4484d-8d9a-4050-a240-21e9fc4391f1",
   "metadata": {},
   "outputs": [],
   "source": [
    "#\n",
    "combined_df['Sex'] = combined_df['Sex'].map({'male': 0, 'female': 1})\n",
    "combined_df['Embarked'] = combined_df['Embarked'].map({'S': 0, 'C': 1, 'Q': 2})\n",
    "most_common_embarked = int(combined_df['Embarked'].mode()[0])\n",
    "combined_df['Embarked'] = combined_df['Embarked'].fillna(most_common_embarked)\n",
    "combined_df['Embarked'] = combined_df['Embarked'].astype(int)\n"
   ]
  },
  {
   "cell_type": "code",
   "execution_count": 171,
   "id": "df5d8def-9ce0-4752-aa6b-b3a288b4ff7a",
   "metadata": {},
   "outputs": [
    {
     "name": "stdout",
     "output_type": "stream",
     "text": [
      "             Survived  Pclass  Sex  Age  SibSp  Parch  Fare  Embarked\n",
      "PassengerId                                                          \n",
      "1                   0       3    0   22      1      0     7         0\n",
      "2                   1       1    1   38      1      0    71         1\n",
      "3                   1       3    1   26      0      0     7         0\n",
      "4                   1       1    1   35      1      0    53         0\n",
      "5                   0       3    0   35      0      0     8         0\n",
      "6                   0       3    0   28      0      0     8         2\n",
      "7                   0       1    0   54      0      0    51         0\n",
      "8                   0       3    0    2      3      1    21         0\n",
      "9                   1       3    1   27      0      2    11         0\n",
      "10                  1       2    1   14      1      0    30         1\n"
     ]
    }
   ],
   "source": [
    "print(combined_df.head(10))"
   ]
  },
  {
   "cell_type": "code",
   "execution_count": 172,
   "id": "dd5abb4f-0676-4c13-a772-2be953785cab",
   "metadata": {},
   "outputs": [],
   "source": [
    "combined_df.to_csv('cleaned_titanic.csv', index=False)"
   ]
  },
  {
   "cell_type": "code",
   "execution_count": null,
   "id": "cef61c0c-417d-4def-aa0e-1a9c9fac9bc7",
   "metadata": {},
   "outputs": [],
   "source": []
  }
 ],
 "metadata": {
  "kernelspec": {
   "display_name": "Python (myenv)",
   "language": "python",
   "name": "myenv"
  },
  "language_info": {
   "codemirror_mode": {
    "name": "ipython",
    "version": 3
   },
   "file_extension": ".py",
   "mimetype": "text/x-python",
   "name": "python",
   "nbconvert_exporter": "python",
   "pygments_lexer": "ipython3",
   "version": "3.12.7"
  }
 },
 "nbformat": 4,
 "nbformat_minor": 5
}
